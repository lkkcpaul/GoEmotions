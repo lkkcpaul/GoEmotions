{
 "cells": [
  {
   "cell_type": "markdown",
   "id": "99b58606-befc-471c-8b90-722a1030a24b",
   "metadata": {},
   "source": [
    "In this notebook, we will train the model on only 7 labels, namely the Ekman labels. "
   ]
  },
  {
   "cell_type": "code",
   "execution_count": 1,
   "id": "66f7a96c-532f-4c24-8062-9a240c9c856f",
   "metadata": {},
   "outputs": [
    {
     "name": "stdout",
     "output_type": "stream",
     "text": [
      "Is gpu available? True\n"
     ]
    }
   ],
   "source": [
    "import torch\n",
    "device = 'cuda' if torch.cuda.is_available() else 'cpu'\n",
    "print('Is gpu available?', device=='cuda')\n",
    "from transformers import TrainingArguments, Trainer\n",
    "from transformers import AutoTokenizer, AutoModelForSequenceClassification\n",
    "#from transformers import pipeline\n",
    "import pandas as pd\n",
    "import os\n",
    "import numpy as np\n",
    "import matplotlib.pyplot as plt\n",
    "from sklearn.metrics import f1_score, roc_auc_score, accuracy_score\n",
    "from transformers import EvalPrediction\n",
    "from datasets import load_dataset"
   ]
  },
  {
   "cell_type": "code",
   "execution_count": 2,
   "id": "469b29a7-624f-4d95-8a55-85b32ed5b445",
   "metadata": {},
   "outputs": [
    {
     "name": "stderr",
     "output_type": "stream",
     "text": [
      "Found cached dataset csv (C:/Users/lkkcp/.cache/huggingface/datasets/csv/default-af6254ecd422efea/0.0.0/eea64c71ca8b46dd3f537ed218fc9bf495d5707789152eb2764f5c78fa66d59d)\n"
     ]
    },
    {
     "data": {
      "application/vnd.jupyter.widget-view+json": {
       "model_id": "05f63d9570dc4e928d84990beb219b14",
       "version_major": 2,
       "version_minor": 0
      },
      "text/plain": [
       "  0%|          | 0/3 [00:00<?, ?it/s]"
      ]
     },
     "metadata": {},
     "output_type": "display_data"
    }
   ],
   "source": [
    "dataset = load_dataset(\"csv\",data_files=\n",
    "                       {\"train\": \"../reformat_data/train_wide.csv\",\n",
    "                        \"validation\": \"../reformat_data/val_wide.csv\",\n",
    "                         \"test\": \"../reformat_data/test_wide.csv\"})"
   ]
  },
  {
   "cell_type": "code",
   "execution_count": 3,
   "id": "2b4191d2-a16d-4508-b44e-47d2b51cec80",
   "metadata": {},
   "outputs": [],
   "source": [
    "import json\n",
    "with open('../data/ekman_mapping.json','r') as f:\n",
    "    ekman_map = json.load(f)"
   ]
  },
  {
   "cell_type": "code",
   "execution_count": 20,
   "id": "481c1b08-f4b6-411f-a900-a59c7f2f811a",
   "metadata": {},
   "outputs": [
    {
     "data": {
      "text/plain": [
       "{'anger': ['anger', 'annoyance', 'disapproval'],\n",
       " 'disgust': ['disgust'],\n",
       " 'fear': ['fear', 'nervousness'],\n",
       " 'joy': ['joy',\n",
       "  'amusement',\n",
       "  'approval',\n",
       "  'excitement',\n",
       "  'gratitude',\n",
       "  'love',\n",
       "  'optimism',\n",
       "  'relief',\n",
       "  'pride',\n",
       "  'admiration',\n",
       "  'desire',\n",
       "  'caring'],\n",
       " 'sadness': ['sadness', 'disappointment', 'embarrassment', 'grief', 'remorse'],\n",
       " 'surprise': ['surprise', 'realization', 'confusion', 'curiosity'],\n",
       " 'neutral': ['neutral']}"
      ]
     },
     "execution_count": 20,
     "metadata": {},
     "output_type": "execute_result"
    }
   ],
   "source": [
    "ekman_map['neutral'] = ['neutral']\n",
    "ekman_map"
   ]
  },
  {
   "cell_type": "code",
   "execution_count": 21,
   "id": "b62e0e9d-7dbd-4694-a92a-0e6b82df461b",
   "metadata": {},
   "outputs": [
    {
     "data": {
      "text/plain": [
       "['anger', 'disgust', 'fear', 'joy', 'sadness', 'surprise', 'neutral']"
      ]
     },
     "execution_count": 21,
     "metadata": {},
     "output_type": "execute_result"
    }
   ],
   "source": [
    "labels = list(ekman_map.keys())\n",
    "labels"
   ]
  },
  {
   "cell_type": "code",
   "execution_count": 43,
   "id": "7c90245f-85f6-4b25-ac52-41fa83e3248b",
   "metadata": {},
   "outputs": [],
   "source": [
    "lab2idx = {labels[i]:i for i in range(len(labels))}\n",
    "idx2lab = {i:labels[i] for i in range(len(labels))}"
   ]
  },
  {
   "cell_type": "code",
   "execution_count": 9,
   "id": "bf3f0c3c-718d-48ef-8c21-06738289586d",
   "metadata": {},
   "outputs": [],
   "source": [
    "# Hyperparameters\n",
    "model_checkpoint = \"roberta-base\"\n",
    "MAXLEN = 256\n",
    "batch_size = 4\n",
    "metric_name = 'f1'\n",
    "epochs = 10\n",
    "weight_decay = 0.01\n",
    "learning_rate = 1e-5"
   ]
  },
  {
   "cell_type": "code",
   "execution_count": 23,
   "id": "491ced7b-da57-47a1-9246-6f10104868d7",
   "metadata": {},
   "outputs": [],
   "source": [
    "tokenizer = AutoTokenizer.from_pretrained(model_checkpoint)"
   ]
  },
  {
   "cell_type": "code",
   "execution_count": 50,
   "id": "2b32e567-42ad-4dd7-b927-b8f90f6cb516",
   "metadata": {},
   "outputs": [
    {
     "data": {
      "application/vnd.jupyter.widget-view+json": {
       "model_id": "",
       "version_major": 2,
       "version_minor": 0
      },
      "text/plain": [
       "Map:   0%|          | 0/43410 [00:00<?, ? examples/s]"
      ]
     },
     "metadata": {},
     "output_type": "display_data"
    },
    {
     "data": {
      "application/vnd.jupyter.widget-view+json": {
       "model_id": "",
       "version_major": 2,
       "version_minor": 0
      },
      "text/plain": [
       "Map:   0%|          | 0/5426 [00:00<?, ? examples/s]"
      ]
     },
     "metadata": {},
     "output_type": "display_data"
    },
    {
     "data": {
      "application/vnd.jupyter.widget-view+json": {
       "model_id": "",
       "version_major": 2,
       "version_minor": 0
      },
      "text/plain": [
       "Map:   0%|          | 0/5427 [00:00<?, ? examples/s]"
      ]
     },
     "metadata": {},
     "output_type": "display_data"
    },
    {
     "data": {
      "application/vnd.jupyter.widget-view+json": {
       "model_id": "",
       "version_major": 2,
       "version_minor": 0
      },
      "text/plain": [
       "Map:   0%|          | 0/43410 [00:00<?, ? examples/s]"
      ]
     },
     "metadata": {},
     "output_type": "display_data"
    },
    {
     "data": {
      "application/vnd.jupyter.widget-view+json": {
       "model_id": "",
       "version_major": 2,
       "version_minor": 0
      },
      "text/plain": [
       "Map:   0%|          | 0/5426 [00:00<?, ? examples/s]"
      ]
     },
     "metadata": {},
     "output_type": "display_data"
    },
    {
     "data": {
      "application/vnd.jupyter.widget-view+json": {
       "model_id": "",
       "version_major": 2,
       "version_minor": 0
      },
      "text/plain": [
       "Map:   0%|          | 0/5427 [00:00<?, ? examples/s]"
      ]
     },
     "metadata": {},
     "output_type": "display_data"
    }
   ],
   "source": [
    "def encode(samples):\n",
    "    return tokenizer(samples['Text'], padding=\"max_length\",truncation=True, max_length=MAXLEN)\n",
    "\n",
    "# This function reduces the number of labels to 7, according to the Ekman map\n",
    "def label_formatting(samples):\n",
    "    labels_matrix = np.zeros((len(samples['Text']), len(labels)))\n",
    "    for i, label in enumerate(labels):\n",
    "        for sublabel in ekman_map[label]:\n",
    "            labels_matrix[:,i] += samples[sublabel]\n",
    "    labels_matrix = (labels_matrix>0).astype(float)\n",
    "    return {'labels':labels_matrix.tolist()}\n",
    "temp = dataset.map(encode,batched=True)\n",
    "encoded_dataset = temp.map(label_formatting,batched=True,remove_columns=dataset['train'].column_names)\n",
    "encoded_dataset.set_format(\"torch\")"
   ]
  },
  {
   "cell_type": "code",
   "execution_count": 48,
   "id": "aa2cb6dc-831d-48a8-b11c-3a4c6424c3ad",
   "metadata": {},
   "outputs": [],
   "source": [
    "def multi_label_metrics(predictions, y_true, threshold=0.5):\n",
    "\n",
    "    sigmoid = torch.nn.Sigmoid()\n",
    "    probs = sigmoid(torch.Tensor(predictions))\n",
    "    y_pred = (probs >= threshold).long()\n",
    "    \n",
    "    f1_micro_average = f1_score(y_true, y_pred, average='micro')\n",
    "    roc_auc = roc_auc_score(y_true, y_pred, average = 'micro')\n",
    "    accuracy = accuracy_score(y_true, y_pred)\n",
    "    # return as dictionary\n",
    "    metrics = {'f1': f1_micro_average,\n",
    "               'roc_auc': roc_auc,\n",
    "               'accuracy': accuracy}\n",
    "    return metrics\n",
    "def compute_metrics(p: EvalPrediction):\n",
    "    preds = p.predictions[0] if isinstance(p.predictions, \n",
    "            tuple) else p.predictions\n",
    "    result = multi_label_metrics(\n",
    "        preds, p.label_ids)\n",
    "    return result"
   ]
  },
  {
   "cell_type": "code",
   "execution_count": 51,
   "id": "4f8fff29-5024-4306-8f2a-6df5c33abe93",
   "metadata": {},
   "outputs": [
    {
     "name": "stderr",
     "output_type": "stream",
     "text": [
      "Some weights of RobertaForSequenceClassification were not initialized from the model checkpoint at roberta-base and are newly initialized: ['classifier.out_proj.bias', 'classifier.out_proj.weight', 'classifier.dense.bias', 'classifier.dense.weight']\n",
      "You should probably TRAIN this model on a down-stream task to be able to use it for predictions and inference.\n"
     ]
    },
    {
     "data": {
      "text/html": [
       "\n",
       "    <div>\n",
       "      \n",
       "      <progress value='108530' max='108530' style='width:300px; height:20px; vertical-align: middle;'></progress>\n",
       "      [108530/108530 8:32:23, Epoch 10/10]\n",
       "    </div>\n",
       "    <table border=\"1\" class=\"dataframe\">\n",
       "  <thead>\n",
       " <tr style=\"text-align: left;\">\n",
       "      <th>Epoch</th>\n",
       "      <th>Training Loss</th>\n",
       "      <th>Validation Loss</th>\n",
       "      <th>F1</th>\n",
       "      <th>Roc Auc</th>\n",
       "      <th>Accuracy</th>\n",
       "    </tr>\n",
       "  </thead>\n",
       "  <tbody>\n",
       "    <tr>\n",
       "      <td>1</td>\n",
       "      <td>0.241800</td>\n",
       "      <td>0.226051</td>\n",
       "      <td>0.684427</td>\n",
       "      <td>0.800965</td>\n",
       "      <td>0.603391</td>\n",
       "    </tr>\n",
       "    <tr>\n",
       "      <td>2</td>\n",
       "      <td>0.207200</td>\n",
       "      <td>0.227539</td>\n",
       "      <td>0.699281</td>\n",
       "      <td>0.813547</td>\n",
       "      <td>0.627534</td>\n",
       "    </tr>\n",
       "    <tr>\n",
       "      <td>3</td>\n",
       "      <td>0.185000</td>\n",
       "      <td>0.236473</td>\n",
       "      <td>0.698520</td>\n",
       "      <td>0.810693</td>\n",
       "      <td>0.631589</td>\n",
       "    </tr>\n",
       "    <tr>\n",
       "      <td>4</td>\n",
       "      <td>0.163600</td>\n",
       "      <td>0.269092</td>\n",
       "      <td>0.699965</td>\n",
       "      <td>0.816387</td>\n",
       "      <td>0.633247</td>\n",
       "    </tr>\n",
       "    <tr>\n",
       "      <td>5</td>\n",
       "      <td>0.143700</td>\n",
       "      <td>0.301776</td>\n",
       "      <td>0.686884</td>\n",
       "      <td>0.809627</td>\n",
       "      <td>0.619241</td>\n",
       "    </tr>\n",
       "    <tr>\n",
       "      <td>6</td>\n",
       "      <td>0.126100</td>\n",
       "      <td>0.357025</td>\n",
       "      <td>0.678056</td>\n",
       "      <td>0.805871</td>\n",
       "      <td>0.608183</td>\n",
       "    </tr>\n",
       "    <tr>\n",
       "      <td>7</td>\n",
       "      <td>0.110100</td>\n",
       "      <td>0.382192</td>\n",
       "      <td>0.682696</td>\n",
       "      <td>0.808519</td>\n",
       "      <td>0.617951</td>\n",
       "    </tr>\n",
       "    <tr>\n",
       "      <td>8</td>\n",
       "      <td>0.096100</td>\n",
       "      <td>0.417330</td>\n",
       "      <td>0.674861</td>\n",
       "      <td>0.805226</td>\n",
       "      <td>0.603391</td>\n",
       "    </tr>\n",
       "    <tr>\n",
       "      <td>9</td>\n",
       "      <td>0.084000</td>\n",
       "      <td>0.444851</td>\n",
       "      <td>0.677943</td>\n",
       "      <td>0.806868</td>\n",
       "      <td>0.608183</td>\n",
       "    </tr>\n",
       "    <tr>\n",
       "      <td>10</td>\n",
       "      <td>0.075100</td>\n",
       "      <td>0.456524</td>\n",
       "      <td>0.676064</td>\n",
       "      <td>0.805767</td>\n",
       "      <td>0.607999</td>\n",
       "    </tr>\n",
       "  </tbody>\n",
       "</table><p>"
      ],
      "text/plain": [
       "<IPython.core.display.HTML object>"
      ]
     },
     "metadata": {},
     "output_type": "display_data"
    },
    {
     "data": {
      "text/plain": [
       "TrainOutput(global_step=108530, training_loss=0.14327566184987015, metrics={'train_runtime': 30743.8544, 'train_samples_per_second': 14.12, 'train_steps_per_second': 3.53, 'total_flos': 5.711081832576e+16, 'train_loss': 0.14327566184987015, 'epoch': 10.0})"
      ]
     },
     "execution_count": 51,
     "metadata": {},
     "output_type": "execute_result"
    }
   ],
   "source": [
    "model = AutoModelForSequenceClassification.from_pretrained(model_checkpoint, \n",
    "                                                       problem_type=\"multi_label_classification\", \n",
    "                                                       num_labels=len(labels),\n",
    "                                                       id2label=idx2lab,\n",
    "                                                       label2id=lab2idx).to(device)\n",
    "\n",
    "\n",
    "args = TrainingArguments(\n",
    "    f\"{model_checkpoint}-goemotions-ekman\",\n",
    "    evaluation_strategy = \"epoch\",\n",
    "    logging_strategy = \"epoch\",\n",
    "    save_strategy = \"epoch\",\n",
    "    learning_rate=learning_rate,\n",
    "    per_device_train_batch_size=batch_size,\n",
    "    per_device_eval_batch_size=batch_size,\n",
    "    num_train_epochs=epochs,\n",
    "    weight_decay=weight_decay,\n",
    "    load_best_model_at_end=True,\n",
    "    metric_for_best_model=metric_name,\n",
    "    #push_to_hub=True,\n",
    ")\n",
    "\n",
    "trainer = Trainer(\n",
    "    model,\n",
    "    args,\n",
    "    train_dataset=encoded_dataset['train'],\n",
    "    eval_dataset=encoded_dataset[\"validation\"],\n",
    "    tokenizer=tokenizer,\n",
    "    compute_metrics=compute_metrics\n",
    ")\n",
    "\n",
    "trainer.train()"
   ]
  },
  {
   "cell_type": "code",
   "execution_count": 52,
   "id": "a19ebeed-a569-4a97-b7d2-52e66f12ff52",
   "metadata": {},
   "outputs": [
    {
     "data": {
      "text/html": [
       "\n",
       "    <div>\n",
       "      \n",
       "      <progress value='2714' max='1357' style='width:300px; height:20px; vertical-align: middle;'></progress>\n",
       "      [1357/1357 1:18:44]\n",
       "    </div>\n",
       "    "
      ],
      "text/plain": [
       "<IPython.core.display.HTML object>"
      ]
     },
     "metadata": {},
     "output_type": "display_data"
    },
    {
     "data": {
      "text/plain": [
       "{'eval_loss': 0.2690916657447815,\n",
       " 'eval_f1': 0.6999653139091225,\n",
       " 'eval_roc_auc': 0.8163865429836509,\n",
       " 'eval_accuracy': 0.6332473276815334,\n",
       " 'eval_runtime': 104.5017,\n",
       " 'eval_samples_per_second': 51.923,\n",
       " 'eval_steps_per_second': 12.985,\n",
       " 'epoch': 10.0}"
      ]
     },
     "execution_count": 52,
     "metadata": {},
     "output_type": "execute_result"
    }
   ],
   "source": [
    "trainer.evaluate()"
   ]
  },
  {
   "cell_type": "code",
   "execution_count": 53,
   "id": "67daab3e-afb3-464a-88f8-5a2a70d9dafe",
   "metadata": {},
   "outputs": [
    {
     "data": {
      "text/html": [
       "<div>\n",
       "<style scoped>\n",
       "    .dataframe tbody tr th:only-of-type {\n",
       "        vertical-align: middle;\n",
       "    }\n",
       "\n",
       "    .dataframe tbody tr th {\n",
       "        vertical-align: top;\n",
       "    }\n",
       "\n",
       "    .dataframe thead th {\n",
       "        text-align: right;\n",
       "    }\n",
       "</style>\n",
       "<table border=\"1\" class=\"dataframe\">\n",
       "  <thead>\n",
       "    <tr style=\"text-align: right;\">\n",
       "      <th></th>\n",
       "      <th>loss</th>\n",
       "      <th>learning_rate</th>\n",
       "      <th>epoch</th>\n",
       "      <th>step</th>\n",
       "      <th>eval_loss</th>\n",
       "      <th>eval_f1</th>\n",
       "      <th>eval_roc_auc</th>\n",
       "      <th>eval_accuracy</th>\n",
       "      <th>eval_runtime</th>\n",
       "      <th>eval_samples_per_second</th>\n",
       "      <th>eval_steps_per_second</th>\n",
       "    </tr>\n",
       "  </thead>\n",
       "  <tbody>\n",
       "    <tr>\n",
       "      <th>0</th>\n",
       "      <td>0.2418</td>\n",
       "      <td>0.000009</td>\n",
       "      <td>1.0</td>\n",
       "      <td>10853</td>\n",
       "      <td>NaN</td>\n",
       "      <td>NaN</td>\n",
       "      <td>NaN</td>\n",
       "      <td>NaN</td>\n",
       "      <td>NaN</td>\n",
       "      <td>NaN</td>\n",
       "      <td>NaN</td>\n",
       "    </tr>\n",
       "    <tr>\n",
       "      <th>1</th>\n",
       "      <td>NaN</td>\n",
       "      <td>NaN</td>\n",
       "      <td>1.0</td>\n",
       "      <td>10853</td>\n",
       "      <td>0.226051</td>\n",
       "      <td>0.684427</td>\n",
       "      <td>0.800965</td>\n",
       "      <td>0.603391</td>\n",
       "      <td>104.2420</td>\n",
       "      <td>52.052</td>\n",
       "      <td>13.018</td>\n",
       "    </tr>\n",
       "    <tr>\n",
       "      <th>2</th>\n",
       "      <td>0.2072</td>\n",
       "      <td>0.000008</td>\n",
       "      <td>2.0</td>\n",
       "      <td>21706</td>\n",
       "      <td>NaN</td>\n",
       "      <td>NaN</td>\n",
       "      <td>NaN</td>\n",
       "      <td>NaN</td>\n",
       "      <td>NaN</td>\n",
       "      <td>NaN</td>\n",
       "      <td>NaN</td>\n",
       "    </tr>\n",
       "    <tr>\n",
       "      <th>3</th>\n",
       "      <td>NaN</td>\n",
       "      <td>NaN</td>\n",
       "      <td>2.0</td>\n",
       "      <td>21706</td>\n",
       "      <td>0.227539</td>\n",
       "      <td>0.699281</td>\n",
       "      <td>0.813547</td>\n",
       "      <td>0.627534</td>\n",
       "      <td>104.1884</td>\n",
       "      <td>52.079</td>\n",
       "      <td>13.024</td>\n",
       "    </tr>\n",
       "    <tr>\n",
       "      <th>4</th>\n",
       "      <td>0.1850</td>\n",
       "      <td>0.000007</td>\n",
       "      <td>3.0</td>\n",
       "      <td>32559</td>\n",
       "      <td>NaN</td>\n",
       "      <td>NaN</td>\n",
       "      <td>NaN</td>\n",
       "      <td>NaN</td>\n",
       "      <td>NaN</td>\n",
       "      <td>NaN</td>\n",
       "      <td>NaN</td>\n",
       "    </tr>\n",
       "    <tr>\n",
       "      <th>5</th>\n",
       "      <td>NaN</td>\n",
       "      <td>NaN</td>\n",
       "      <td>3.0</td>\n",
       "      <td>32559</td>\n",
       "      <td>0.236473</td>\n",
       "      <td>0.698520</td>\n",
       "      <td>0.810693</td>\n",
       "      <td>0.631589</td>\n",
       "      <td>103.9913</td>\n",
       "      <td>52.177</td>\n",
       "      <td>13.049</td>\n",
       "    </tr>\n",
       "    <tr>\n",
       "      <th>6</th>\n",
       "      <td>0.1636</td>\n",
       "      <td>0.000006</td>\n",
       "      <td>4.0</td>\n",
       "      <td>43412</td>\n",
       "      <td>NaN</td>\n",
       "      <td>NaN</td>\n",
       "      <td>NaN</td>\n",
       "      <td>NaN</td>\n",
       "      <td>NaN</td>\n",
       "      <td>NaN</td>\n",
       "      <td>NaN</td>\n",
       "    </tr>\n",
       "    <tr>\n",
       "      <th>7</th>\n",
       "      <td>NaN</td>\n",
       "      <td>NaN</td>\n",
       "      <td>4.0</td>\n",
       "      <td>43412</td>\n",
       "      <td>0.269092</td>\n",
       "      <td>0.699965</td>\n",
       "      <td>0.816387</td>\n",
       "      <td>0.633247</td>\n",
       "      <td>104.3879</td>\n",
       "      <td>51.979</td>\n",
       "      <td>13.000</td>\n",
       "    </tr>\n",
       "    <tr>\n",
       "      <th>8</th>\n",
       "      <td>0.1437</td>\n",
       "      <td>0.000005</td>\n",
       "      <td>5.0</td>\n",
       "      <td>54265</td>\n",
       "      <td>NaN</td>\n",
       "      <td>NaN</td>\n",
       "      <td>NaN</td>\n",
       "      <td>NaN</td>\n",
       "      <td>NaN</td>\n",
       "      <td>NaN</td>\n",
       "      <td>NaN</td>\n",
       "    </tr>\n",
       "    <tr>\n",
       "      <th>9</th>\n",
       "      <td>NaN</td>\n",
       "      <td>NaN</td>\n",
       "      <td>5.0</td>\n",
       "      <td>54265</td>\n",
       "      <td>0.301776</td>\n",
       "      <td>0.686884</td>\n",
       "      <td>0.809627</td>\n",
       "      <td>0.619241</td>\n",
       "      <td>104.6338</td>\n",
       "      <td>51.857</td>\n",
       "      <td>12.969</td>\n",
       "    </tr>\n",
       "    <tr>\n",
       "      <th>10</th>\n",
       "      <td>0.1261</td>\n",
       "      <td>0.000004</td>\n",
       "      <td>6.0</td>\n",
       "      <td>65118</td>\n",
       "      <td>NaN</td>\n",
       "      <td>NaN</td>\n",
       "      <td>NaN</td>\n",
       "      <td>NaN</td>\n",
       "      <td>NaN</td>\n",
       "      <td>NaN</td>\n",
       "      <td>NaN</td>\n",
       "    </tr>\n",
       "    <tr>\n",
       "      <th>11</th>\n",
       "      <td>NaN</td>\n",
       "      <td>NaN</td>\n",
       "      <td>6.0</td>\n",
       "      <td>65118</td>\n",
       "      <td>0.357025</td>\n",
       "      <td>0.678056</td>\n",
       "      <td>0.805871</td>\n",
       "      <td>0.608183</td>\n",
       "      <td>104.2733</td>\n",
       "      <td>52.036</td>\n",
       "      <td>13.014</td>\n",
       "    </tr>\n",
       "    <tr>\n",
       "      <th>12</th>\n",
       "      <td>0.1101</td>\n",
       "      <td>0.000003</td>\n",
       "      <td>7.0</td>\n",
       "      <td>75971</td>\n",
       "      <td>NaN</td>\n",
       "      <td>NaN</td>\n",
       "      <td>NaN</td>\n",
       "      <td>NaN</td>\n",
       "      <td>NaN</td>\n",
       "      <td>NaN</td>\n",
       "      <td>NaN</td>\n",
       "    </tr>\n",
       "    <tr>\n",
       "      <th>13</th>\n",
       "      <td>NaN</td>\n",
       "      <td>NaN</td>\n",
       "      <td>7.0</td>\n",
       "      <td>75971</td>\n",
       "      <td>0.382192</td>\n",
       "      <td>0.682696</td>\n",
       "      <td>0.808519</td>\n",
       "      <td>0.617951</td>\n",
       "      <td>104.3356</td>\n",
       "      <td>52.005</td>\n",
       "      <td>13.006</td>\n",
       "    </tr>\n",
       "    <tr>\n",
       "      <th>14</th>\n",
       "      <td>0.0961</td>\n",
       "      <td>0.000002</td>\n",
       "      <td>8.0</td>\n",
       "      <td>86824</td>\n",
       "      <td>NaN</td>\n",
       "      <td>NaN</td>\n",
       "      <td>NaN</td>\n",
       "      <td>NaN</td>\n",
       "      <td>NaN</td>\n",
       "      <td>NaN</td>\n",
       "      <td>NaN</td>\n",
       "    </tr>\n",
       "    <tr>\n",
       "      <th>15</th>\n",
       "      <td>NaN</td>\n",
       "      <td>NaN</td>\n",
       "      <td>8.0</td>\n",
       "      <td>86824</td>\n",
       "      <td>0.417330</td>\n",
       "      <td>0.674861</td>\n",
       "      <td>0.805226</td>\n",
       "      <td>0.603391</td>\n",
       "      <td>104.4150</td>\n",
       "      <td>51.966</td>\n",
       "      <td>12.996</td>\n",
       "    </tr>\n",
       "    <tr>\n",
       "      <th>16</th>\n",
       "      <td>0.0840</td>\n",
       "      <td>0.000001</td>\n",
       "      <td>9.0</td>\n",
       "      <td>97677</td>\n",
       "      <td>NaN</td>\n",
       "      <td>NaN</td>\n",
       "      <td>NaN</td>\n",
       "      <td>NaN</td>\n",
       "      <td>NaN</td>\n",
       "      <td>NaN</td>\n",
       "      <td>NaN</td>\n",
       "    </tr>\n",
       "    <tr>\n",
       "      <th>17</th>\n",
       "      <td>NaN</td>\n",
       "      <td>NaN</td>\n",
       "      <td>9.0</td>\n",
       "      <td>97677</td>\n",
       "      <td>0.444851</td>\n",
       "      <td>0.677943</td>\n",
       "      <td>0.806868</td>\n",
       "      <td>0.608183</td>\n",
       "      <td>104.7545</td>\n",
       "      <td>51.797</td>\n",
       "      <td>12.954</td>\n",
       "    </tr>\n",
       "    <tr>\n",
       "      <th>18</th>\n",
       "      <td>0.0751</td>\n",
       "      <td>0.000000</td>\n",
       "      <td>10.0</td>\n",
       "      <td>108530</td>\n",
       "      <td>NaN</td>\n",
       "      <td>NaN</td>\n",
       "      <td>NaN</td>\n",
       "      <td>NaN</td>\n",
       "      <td>NaN</td>\n",
       "      <td>NaN</td>\n",
       "      <td>NaN</td>\n",
       "    </tr>\n",
       "    <tr>\n",
       "      <th>19</th>\n",
       "      <td>NaN</td>\n",
       "      <td>NaN</td>\n",
       "      <td>10.0</td>\n",
       "      <td>108530</td>\n",
       "      <td>0.456524</td>\n",
       "      <td>0.676064</td>\n",
       "      <td>0.805767</td>\n",
       "      <td>0.607999</td>\n",
       "      <td>104.4688</td>\n",
       "      <td>51.939</td>\n",
       "      <td>12.990</td>\n",
       "    </tr>\n",
       "  </tbody>\n",
       "</table>\n",
       "</div>"
      ],
      "text/plain": [
       "      loss  learning_rate  epoch    step  eval_loss   eval_f1  eval_roc_auc  \\\n",
       "0   0.2418       0.000009    1.0   10853        NaN       NaN           NaN   \n",
       "1      NaN            NaN    1.0   10853   0.226051  0.684427      0.800965   \n",
       "2   0.2072       0.000008    2.0   21706        NaN       NaN           NaN   \n",
       "3      NaN            NaN    2.0   21706   0.227539  0.699281      0.813547   \n",
       "4   0.1850       0.000007    3.0   32559        NaN       NaN           NaN   \n",
       "5      NaN            NaN    3.0   32559   0.236473  0.698520      0.810693   \n",
       "6   0.1636       0.000006    4.0   43412        NaN       NaN           NaN   \n",
       "7      NaN            NaN    4.0   43412   0.269092  0.699965      0.816387   \n",
       "8   0.1437       0.000005    5.0   54265        NaN       NaN           NaN   \n",
       "9      NaN            NaN    5.0   54265   0.301776  0.686884      0.809627   \n",
       "10  0.1261       0.000004    6.0   65118        NaN       NaN           NaN   \n",
       "11     NaN            NaN    6.0   65118   0.357025  0.678056      0.805871   \n",
       "12  0.1101       0.000003    7.0   75971        NaN       NaN           NaN   \n",
       "13     NaN            NaN    7.0   75971   0.382192  0.682696      0.808519   \n",
       "14  0.0961       0.000002    8.0   86824        NaN       NaN           NaN   \n",
       "15     NaN            NaN    8.0   86824   0.417330  0.674861      0.805226   \n",
       "16  0.0840       0.000001    9.0   97677        NaN       NaN           NaN   \n",
       "17     NaN            NaN    9.0   97677   0.444851  0.677943      0.806868   \n",
       "18  0.0751       0.000000   10.0  108530        NaN       NaN           NaN   \n",
       "19     NaN            NaN   10.0  108530   0.456524  0.676064      0.805767   \n",
       "\n",
       "    eval_accuracy  eval_runtime  eval_samples_per_second  \\\n",
       "0             NaN           NaN                      NaN   \n",
       "1        0.603391      104.2420                   52.052   \n",
       "2             NaN           NaN                      NaN   \n",
       "3        0.627534      104.1884                   52.079   \n",
       "4             NaN           NaN                      NaN   \n",
       "5        0.631589      103.9913                   52.177   \n",
       "6             NaN           NaN                      NaN   \n",
       "7        0.633247      104.3879                   51.979   \n",
       "8             NaN           NaN                      NaN   \n",
       "9        0.619241      104.6338                   51.857   \n",
       "10            NaN           NaN                      NaN   \n",
       "11       0.608183      104.2733                   52.036   \n",
       "12            NaN           NaN                      NaN   \n",
       "13       0.617951      104.3356                   52.005   \n",
       "14            NaN           NaN                      NaN   \n",
       "15       0.603391      104.4150                   51.966   \n",
       "16            NaN           NaN                      NaN   \n",
       "17       0.608183      104.7545                   51.797   \n",
       "18            NaN           NaN                      NaN   \n",
       "19       0.607999      104.4688                   51.939   \n",
       "\n",
       "    eval_steps_per_second  \n",
       "0                     NaN  \n",
       "1                  13.018  \n",
       "2                     NaN  \n",
       "3                  13.024  \n",
       "4                     NaN  \n",
       "5                  13.049  \n",
       "6                     NaN  \n",
       "7                  13.000  \n",
       "8                     NaN  \n",
       "9                  12.969  \n",
       "10                    NaN  \n",
       "11                 13.014  \n",
       "12                    NaN  \n",
       "13                 13.006  \n",
       "14                    NaN  \n",
       "15                 12.996  \n",
       "16                    NaN  \n",
       "17                 12.954  \n",
       "18                    NaN  \n",
       "19                 12.990  "
      ]
     },
     "execution_count": 53,
     "metadata": {},
     "output_type": "execute_result"
    }
   ],
   "source": [
    "history_df = pd.DataFrame(trainer.state.log_history[:-2]) #The last two rows are final evaluations\n",
    "history_df"
   ]
  },
  {
   "cell_type": "code",
   "execution_count": 54,
   "id": "2b16300d-8450-4dee-9a61-e2276a82220c",
   "metadata": {},
   "outputs": [
    {
     "data": {
      "image/png": "[encoded data removed]",
      "text/plain": [
       "<Figure size 640x480 with 1 Axes>"
      ]
     },
     "metadata": {},
     "output_type": "display_data"
    }
   ],
   "source": [
    "plt.plot(history_df['epoch'], history_df['loss'],'-o',label='train loss')\n",
    "plt.plot(history_df['epoch'], history_df['eval_loss'],'-o',label='validation loss')\n",
    "plt.legend()\n",
    "plt.xlabel('epoch')\n",
    "plt.ylabel('loss')\n",
    "plt.show();"
   ]
  },
  {
   "cell_type": "code",
   "execution_count": 55,
   "id": "26357ebe-bc92-4b00-92bd-b28b9a63f28a",
   "metadata": {},
   "outputs": [
    {
     "data": {
      "image/png": "[encoded data removed]",
      "text/plain": [
       "<Figure size 640x480 with 1 Axes>"
      ]
     },
     "metadata": {},
     "output_type": "display_data"
    }
   ],
   "source": [
    "plt.plot(history_df['epoch'], history_df['eval_f1'],'-o',label='f1')\n",
    "plt.plot(history_df['epoch'], history_df['eval_accuracy'],'-o',label='accuracy')\n",
    "plt.plot(history_df['epoch'], history_df['eval_roc_auc'],'-o',label='roc_auc')\n",
    "plt.legend()\n",
    "plt.xlabel('epoch')\n",
    "#plt.ylabel()\n",
    "plt.show();"
   ]
  },
  {
   "cell_type": "code",
   "execution_count": 56,
   "id": "0d49351e-3f50-4dc8-9645-352aa148269a",
   "metadata": {},
   "outputs": [],
   "source": [
    "trainer.save_model('roberta-base-goemotions-ekman')\n",
    "pd.DataFrame(trainer.state.log_history).to_csv('roberta-base-goemotions-ekman/training_log.csv')"
   ]
  },
  {
   "cell_type": "markdown",
   "id": "d2b6c72a-8298-4042-928a-fa13fe384d42",
   "metadata": {},
   "source": [
    "# Evaluate on test data"
   ]
  },
  {
   "cell_type": "code",
   "execution_count": 57,
   "id": "3e36d719-38a2-4a41-9e70-8e1cfad424a1",
   "metadata": {},
   "outputs": [
    {
     "data": {
      "text/plain": [
       "{'eval_loss': 0.27407875657081604,\n",
       " 'eval_f1': 0.6913365259033523,\n",
       " 'eval_roc_auc': 0.8115300146277437,\n",
       " 'eval_accuracy': 0.6244702413856643,\n",
       " 'eval_runtime': 81.3016,\n",
       " 'eval_samples_per_second': 66.751,\n",
       " 'eval_steps_per_second': 16.691,\n",
       " 'epoch': 10.0}"
      ]
     },
     "execution_count": 57,
     "metadata": {},
     "output_type": "execute_result"
    }
   ],
   "source": [
    "trainer.evaluate(encoded_dataset['test'])"
   ]
  },
  {
   "cell_type": "code",
   "execution_count": null,
   "id": "8ae00227-c116-4b5f-be94-6161693d2120",
   "metadata": {},
   "outputs": [],
   "source": []
  }
 ],
 "metadata": {
  "kernelspec": {
   "display_name": "goemotions",
   "language": "python",
   "name": "goemotions"
  },
  "language_info": {
   "codemirror_mode": {
    "name": "ipython",
    "version": 3
   },
   "file_extension": ".py",
   "mimetype": "text/x-python",
   "name": "python",
   "nbconvert_exporter": "python",
   "pygments_lexer": "ipython3",
   "version": "3.10.11"
  }
 },
 "nbformat": 4,
 "nbformat_minor": 5
}
