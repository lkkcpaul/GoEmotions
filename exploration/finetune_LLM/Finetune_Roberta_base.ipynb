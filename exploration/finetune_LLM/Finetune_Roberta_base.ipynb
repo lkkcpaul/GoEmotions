{
 "cells": [
  {
   "cell_type": "code",
   "execution_count": 1,
   "id": "1f9ff504-c532-436d-b5a2-ea9f23705a97",
   "metadata": {},
   "outputs": [
    {
     "name": "stdout",
     "output_type": "stream",
     "text": [
      "Is gpu available? True\n"
     ]
    }
   ],
   "source": [
    "import torch\n",
    "device = 'cuda' if torch.cuda.is_available() else 'cpu'\n",
    "print('Is gpu available?', device=='cuda')\n",
    "from transformers import TrainingArguments, Trainer\n",
    "from transformers import AutoTokenizer, AutoModelForSequenceClassification\n",
    "#from transformers import pipeline\n",
    "import pandas as pd\n",
    "import os\n",
    "import numpy as np\n",
    "import matplotlib.pyplot as plt\n",
    "from sklearn.metrics import f1_score, roc_auc_score, accuracy_score\n",
    "from transformers import EvalPrediction\n",
    "from datasets import load_dataset"
   ]
  },
  {
   "cell_type": "code",
   "execution_count": 2,
   "id": "b6f4d6f3-79ba-4f47-a6f2-0145d833b6aa",
   "metadata": {},
   "outputs": [
    {
     "name": "stderr",
     "output_type": "stream",
     "text": [
      "Found cached dataset csv (C:/Users/lkkcp/.cache/huggingface/datasets/csv/default-af6254ecd422efea/0.0.0/eea64c71ca8b46dd3f537ed218fc9bf495d5707789152eb2764f5c78fa66d59d)\n"
     ]
    },
    {
     "data": {
      "application/vnd.jupyter.widget-view+json": {
       "model_id": "d33f6ead6a3746bdb6a72f75fac9db93",
       "version_major": 2,
       "version_minor": 0
      },
      "text/plain": [
       "  0%|          | 0/3 [00:00<?, ?it/s]"
      ]
     },
     "metadata": {},
     "output_type": "display_data"
    }
   ],
   "source": [
    "lab2idx = {}\n",
    "idx2lab = {}\n",
    "i = 0\n",
    "with open('../data/emotions.txt','r') as f:\n",
    "    for line in f:\n",
    "        lab2idx[line.strip()]=i\n",
    "        idx2lab[i] = line.strip()\n",
    "        i+=1\n",
    "labels = list(lab2idx.keys())\n",
    "\n",
    "dataset = load_dataset(\"csv\",data_files=\n",
    "                       {\"train\": \"../reformat_data/train_wide.csv\",\n",
    "                        \"validation\": \"../reformat_data/val_wide.csv\",\n",
    "                         \"test\": \"../reformat_data/test_wide.csv\"})"
   ]
  },
  {
   "cell_type": "code",
   "execution_count": 6,
   "id": "16cfa3c2-3c2d-4abb-a571-b5d9b1ab1d89",
   "metadata": {},
   "outputs": [
    {
     "name": "stdout",
     "output_type": "stream",
     "text": [
      "number of labels (emotions): 28\n",
      "number of samples for training: 43410\n",
      "number of samples for validation: 5426\n",
      "number of samples for test: 5427\n"
     ]
    }
   ],
   "source": [
    "print('number of labels (emotions):', len(lab2idx))\n",
    "print('number of samples for training:', len(dataset['train']))\n",
    "print('number of samples for validation:', len(dataset['validation']))\n",
    "print('number of samples for test:', len(dataset['test']))"
   ]
  },
  {
   "cell_type": "code",
   "execution_count": 3,
   "id": "e3dcc012-a427-40e5-9b06-de53efd0cbe9",
   "metadata": {},
   "outputs": [],
   "source": [
    "# Hyperparameters\n",
    "model_checkpoint = \"roberta-base\"\n",
    "MAXLEN = 256\n",
    "batch_size = 4\n",
    "metric_name = 'f1'\n",
    "epochs = 10\n",
    "weight_decay = 0.01\n",
    "learning_rate = 1e-5"
   ]
  },
  {
   "cell_type": "code",
   "execution_count": 4,
   "id": "cc133e4a-3505-406c-9e61-7787d439f1d9",
   "metadata": {},
   "outputs": [
    {
     "name": "stderr",
     "output_type": "stream",
     "text": [
      "Loading cached processed dataset at C:\\Users\\lkkcp\\.cache\\huggingface\\datasets\\csv\\default-af6254ecd422efea\\0.0.0\\eea64c71ca8b46dd3f537ed218fc9bf495d5707789152eb2764f5c78fa66d59d\\cache-e8fc3e634a7da0cb.arrow\n",
      "Loading cached processed dataset at C:\\Users\\lkkcp\\.cache\\huggingface\\datasets\\csv\\default-af6254ecd422efea\\0.0.0\\eea64c71ca8b46dd3f537ed218fc9bf495d5707789152eb2764f5c78fa66d59d\\cache-39e3f8a5aaf46abd.arrow\n"
     ]
    },
    {
     "data": {
      "application/vnd.jupyter.widget-view+json": {
       "model_id": "",
       "version_major": 2,
       "version_minor": 0
      },
      "text/plain": [
       "Map:   0%|          | 0/5427 [00:00<?, ? examples/s]"
      ]
     },
     "metadata": {},
     "output_type": "display_data"
    },
    {
     "name": "stderr",
     "output_type": "stream",
     "text": [
      "Loading cached processed dataset at C:\\Users\\lkkcp\\.cache\\huggingface\\datasets\\csv\\default-af6254ecd422efea\\0.0.0\\eea64c71ca8b46dd3f537ed218fc9bf495d5707789152eb2764f5c78fa66d59d\\cache-71fef9d4e0c90e46.arrow\n",
      "Loading cached processed dataset at C:\\Users\\lkkcp\\.cache\\huggingface\\datasets\\csv\\default-af6254ecd422efea\\0.0.0\\eea64c71ca8b46dd3f537ed218fc9bf495d5707789152eb2764f5c78fa66d59d\\cache-f1fe0e856d04fd50.arrow\n"
     ]
    },
    {
     "data": {
      "application/vnd.jupyter.widget-view+json": {
       "model_id": "",
       "version_major": 2,
       "version_minor": 0
      },
      "text/plain": [
       "Map:   0%|          | 0/5427 [00:00<?, ? examples/s]"
      ]
     },
     "metadata": {},
     "output_type": "display_data"
    }
   ],
   "source": [
    "tokenizer = AutoTokenizer.from_pretrained(model_checkpoint)\n",
    "def encode(samples):\n",
    "    return tokenizer(samples['Text'], padding=\"max_length\",truncation=True, max_length=MAXLEN)\n",
    "def label_formatting(samples):\n",
    "    labels_matrix = np.zeros((len(samples['Text']), len(labels)))\n",
    "    for i, label in enumerate(labels):\n",
    "        labels_matrix[:,i] = samples[label]\n",
    "    return {'labels':labels_matrix.tolist()}\n",
    "\n",
    "temp = dataset.map(encode,batched=True)\n",
    "encoded_dataset = temp.map(label_formatting,batched=True,remove_columns=dataset['train'].column_names)\n",
    "encoded_dataset.set_format(\"torch\")"
   ]
  },
  {
   "cell_type": "code",
   "execution_count": 7,
   "id": "716c0517-541b-4757-9e7f-da37634258f1",
   "metadata": {},
   "outputs": [],
   "source": [
    "def multi_label_metrics(predictions, true_labels, threshold=0.5):\n",
    "    # first, apply sigmoid on predictions which are of shape (batch_size, num_labels)\n",
    "    sigmoid = torch.nn.Sigmoid()\n",
    "    probs = sigmoid(torch.Tensor(predictions))\n",
    "    # next, use threshold to turn them into integer predictions\n",
    "    y_pred = np.zeros(probs.shape)\n",
    "    y_pred[np.where(probs >= threshold)] = 1\n",
    "    # finally, compute metrics\n",
    "    y_true = true_labels\n",
    "    f1_micro_average = f1_score(y_true=y_true, y_pred=y_pred, average='micro')\n",
    "    roc_auc = roc_auc_score(y_true, y_pred, average = 'micro')\n",
    "    accuracy = accuracy_score(y_true, y_pred)\n",
    "    # return as dictionary\n",
    "    metrics = {'f1': f1_micro_average,\n",
    "               'roc_auc': roc_auc,\n",
    "               'accuracy': accuracy}\n",
    "    return metrics\n",
    "\n",
    "def compute_metrics(p: EvalPrediction):\n",
    "    preds = p.predictions[0] if isinstance(p.predictions, \n",
    "            tuple) else p.predictions\n",
    "    result = multi_label_metrics(\n",
    "        predictions=preds, \n",
    "        true_labels=p.label_ids)\n",
    "    return result"
   ]
  },
  {
   "cell_type": "code",
   "execution_count": 8,
   "id": "2ccc7412-3fe1-4be5-bd01-c382d417c8fd",
   "metadata": {},
   "outputs": [
    {
     "name": "stderr",
     "output_type": "stream",
     "text": [
      "Some weights of RobertaForSequenceClassification were not initialized from the model checkpoint at roberta-base and are newly initialized: ['classifier.out_proj.bias', 'classifier.dense.bias', 'classifier.dense.weight', 'classifier.out_proj.weight']\n",
      "You should probably TRAIN this model on a down-stream task to be able to use it for predictions and inference.\n",
      "C:\\Users\\lkkcp\\PycharmProjects\\GoEmotions\\venv\\lib\\site-packages\\transformers\\optimization.py:411: FutureWarning: This implementation of AdamW is deprecated and will be removed in a future version. Use the PyTorch implementation torch.optim.AdamW instead, or set `no_deprecation_warning=True` to disable this warning\n",
      "  warnings.warn(\n",
      "You're using a RobertaTokenizerFast tokenizer. Please note that with a fast tokenizer, using the `__call__` method is faster than using a method to encode the text followed by a call to the `pad` method to get a padded encoding.\n"
     ]
    },
    {
     "data": {
      "text/html": [
       "\n",
       "    <div>\n",
       "      \n",
       "      <progress value='108530' max='108530' style='width:300px; height:20px; vertical-align: middle;'></progress>\n",
       "      [108530/108530 8:51:46, Epoch 10/10]\n",
       "    </div>\n",
       "    <table border=\"1\" class=\"dataframe\">\n",
       "  <thead>\n",
       " <tr style=\"text-align: left;\">\n",
       "      <th>Epoch</th>\n",
       "      <th>Training Loss</th>\n",
       "      <th>Validation Loss</th>\n",
       "      <th>F1</th>\n",
       "      <th>Roc Auc</th>\n",
       "      <th>Accuracy</th>\n",
       "    </tr>\n",
       "  </thead>\n",
       "  <tbody>\n",
       "    <tr>\n",
       "      <td>1</td>\n",
       "      <td>0.110000</td>\n",
       "      <td>0.089094</td>\n",
       "      <td>0.556974</td>\n",
       "      <td>0.728034</td>\n",
       "      <td>0.443052</td>\n",
       "    </tr>\n",
       "    <tr>\n",
       "      <td>2</td>\n",
       "      <td>0.083900</td>\n",
       "      <td>0.084643</td>\n",
       "      <td>0.594151</td>\n",
       "      <td>0.755962</td>\n",
       "      <td>0.492444</td>\n",
       "    </tr>\n",
       "    <tr>\n",
       "      <td>3</td>\n",
       "      <td>0.074800</td>\n",
       "      <td>0.084199</td>\n",
       "      <td>0.590128</td>\n",
       "      <td>0.750928</td>\n",
       "      <td>0.480464</td>\n",
       "    </tr>\n",
       "    <tr>\n",
       "      <td>4</td>\n",
       "      <td>0.066800</td>\n",
       "      <td>0.087482</td>\n",
       "      <td>0.592126</td>\n",
       "      <td>0.759481</td>\n",
       "      <td>0.484888</td>\n",
       "    </tr>\n",
       "    <tr>\n",
       "      <td>5</td>\n",
       "      <td>0.059000</td>\n",
       "      <td>0.093285</td>\n",
       "      <td>0.580314</td>\n",
       "      <td>0.759521</td>\n",
       "      <td>0.474014</td>\n",
       "    </tr>\n",
       "    <tr>\n",
       "      <td>6</td>\n",
       "      <td>0.052100</td>\n",
       "      <td>0.099995</td>\n",
       "      <td>0.571645</td>\n",
       "      <td>0.759260</td>\n",
       "      <td>0.465721</td>\n",
       "    </tr>\n",
       "    <tr>\n",
       "      <td>7</td>\n",
       "      <td>0.046200</td>\n",
       "      <td>0.104560</td>\n",
       "      <td>0.584277</td>\n",
       "      <td>0.767639</td>\n",
       "      <td>0.480096</td>\n",
       "    </tr>\n",
       "    <tr>\n",
       "      <td>8</td>\n",
       "      <td>0.041100</td>\n",
       "      <td>0.108823</td>\n",
       "      <td>0.568529</td>\n",
       "      <td>0.762104</td>\n",
       "      <td>0.462956</td>\n",
       "    </tr>\n",
       "    <tr>\n",
       "      <td>9</td>\n",
       "      <td>0.037100</td>\n",
       "      <td>0.112492</td>\n",
       "      <td>0.574913</td>\n",
       "      <td>0.765570</td>\n",
       "      <td>0.465721</td>\n",
       "    </tr>\n",
       "    <tr>\n",
       "      <td>10</td>\n",
       "      <td>0.034300</td>\n",
       "      <td>0.113841</td>\n",
       "      <td>0.572087</td>\n",
       "      <td>0.764666</td>\n",
       "      <td>0.465905</td>\n",
       "    </tr>\n",
       "  </tbody>\n",
       "</table><p>"
      ],
      "text/plain": [
       "<IPython.core.display.HTML object>"
      ]
     },
     "metadata": {},
     "output_type": "display_data"
    },
    {
     "data": {
      "text/plain": [
       "TrainOutput(global_step=108530, training_loss=0.06052686072138392, metrics={'train_runtime': 31914.5863, 'train_samples_per_second': 13.602, 'train_steps_per_second': 3.401, 'total_flos': 5.71215861172224e+16, 'train_loss': 0.06052686072138392, 'epoch': 10.0})"
      ]
     },
     "execution_count": 8,
     "metadata": {},
     "output_type": "execute_result"
    }
   ],
   "source": [
    "model = AutoModelForSequenceClassification.from_pretrained(model_checkpoint, \n",
    "                                                       problem_type=\"multi_label_classification\", \n",
    "                                                       num_labels=len(labels),\n",
    "                                                       id2label=idx2lab,\n",
    "                                                       label2id=lab2idx).to(device)\n",
    "\n",
    "\n",
    "args = TrainingArguments(\n",
    "    f\"{model_checkpoint}-goemotions\",\n",
    "    evaluation_strategy = \"epoch\",\n",
    "    logging_strategy = \"epoch\",\n",
    "    save_strategy = \"epoch\",\n",
    "    learning_rate=learning_rate,\n",
    "    per_device_train_batch_size=batch_size,\n",
    "    per_device_eval_batch_size=batch_size,\n",
    "    num_train_epochs=epochs,\n",
    "    weight_decay=weight_decay,\n",
    "    load_best_model_at_end=True,\n",
    "    metric_for_best_model=metric_name,\n",
    "    #push_to_hub=True,\n",
    ")\n",
    "\n",
    "trainer = Trainer(\n",
    "    model,\n",
    "    args,\n",
    "    train_dataset=encoded_dataset['train'],\n",
    "    eval_dataset=encoded_dataset[\"validation\"],\n",
    "    tokenizer=tokenizer,\n",
    "    compute_metrics=compute_metrics\n",
    ")\n",
    "\n",
    "trainer.train()"
   ]
  },
  {
   "cell_type": "code",
   "execution_count": 9,
   "id": "6d65c2bf-247f-45c0-9876-2fab27db4766",
   "metadata": {},
   "outputs": [
    {
     "data": {
      "text/html": [
       "\n",
       "    <div>\n",
       "      \n",
       "      <progress value='1357' max='1357' style='width:300px; height:20px; vertical-align: middle;'></progress>\n",
       "      [1357/1357 01:23]\n",
       "    </div>\n",
       "    "
      ],
      "text/plain": [
       "<IPython.core.display.HTML object>"
      ]
     },
     "metadata": {},
     "output_type": "display_data"
    },
    {
     "data": {
      "text/plain": [
       "{'eval_loss': 0.08464271575212479,\n",
       " 'eval_f1': 0.594151212553495,\n",
       " 'eval_roc_auc': 0.7559618462379301,\n",
       " 'eval_accuracy': 0.49244378916328785,\n",
       " 'eval_runtime': 83.771,\n",
       " 'eval_samples_per_second': 64.772,\n",
       " 'eval_steps_per_second': 16.199,\n",
       " 'epoch': 10.0}"
      ]
     },
     "execution_count": 9,
     "metadata": {},
     "output_type": "execute_result"
    }
   ],
   "source": [
    "trainer.evaluate()"
   ]
  },
  {
   "cell_type": "code",
   "execution_count": 15,
   "id": "0d5a1593-cf0a-4cb4-9924-c72b45f1681d",
   "metadata": {},
   "outputs": [
    {
     "data": {
      "text/html": [
       "<div>\n",
       "<style scoped>\n",
       "    .dataframe tbody tr th:only-of-type {\n",
       "        vertical-align: middle;\n",
       "    }\n",
       "\n",
       "    .dataframe tbody tr th {\n",
       "        vertical-align: top;\n",
       "    }\n",
       "\n",
       "    .dataframe thead th {\n",
       "        text-align: right;\n",
       "    }\n",
       "</style>\n",
       "<table border=\"1\" class=\"dataframe\">\n",
       "  <thead>\n",
       "    <tr style=\"text-align: right;\">\n",
       "      <th></th>\n",
       "      <th>loss</th>\n",
       "      <th>learning_rate</th>\n",
       "      <th>epoch</th>\n",
       "      <th>step</th>\n",
       "      <th>eval_loss</th>\n",
       "      <th>eval_f1</th>\n",
       "      <th>eval_roc_auc</th>\n",
       "      <th>eval_accuracy</th>\n",
       "      <th>eval_runtime</th>\n",
       "      <th>eval_samples_per_second</th>\n",
       "      <th>eval_steps_per_second</th>\n",
       "    </tr>\n",
       "  </thead>\n",
       "  <tbody>\n",
       "    <tr>\n",
       "      <th>0</th>\n",
       "      <td>0.1100</td>\n",
       "      <td>0.000009</td>\n",
       "      <td>1.0</td>\n",
       "      <td>10853</td>\n",
       "      <td>NaN</td>\n",
       "      <td>NaN</td>\n",
       "      <td>NaN</td>\n",
       "      <td>NaN</td>\n",
       "      <td>NaN</td>\n",
       "      <td>NaN</td>\n",
       "      <td>NaN</td>\n",
       "    </tr>\n",
       "    <tr>\n",
       "      <th>1</th>\n",
       "      <td>NaN</td>\n",
       "      <td>NaN</td>\n",
       "      <td>1.0</td>\n",
       "      <td>10853</td>\n",
       "      <td>0.089094</td>\n",
       "      <td>0.556974</td>\n",
       "      <td>0.728034</td>\n",
       "      <td>0.443052</td>\n",
       "      <td>123.5173</td>\n",
       "      <td>43.929</td>\n",
       "      <td>10.986</td>\n",
       "    </tr>\n",
       "    <tr>\n",
       "      <th>2</th>\n",
       "      <td>0.0839</td>\n",
       "      <td>0.000008</td>\n",
       "      <td>2.0</td>\n",
       "      <td>21706</td>\n",
       "      <td>NaN</td>\n",
       "      <td>NaN</td>\n",
       "      <td>NaN</td>\n",
       "      <td>NaN</td>\n",
       "      <td>NaN</td>\n",
       "      <td>NaN</td>\n",
       "      <td>NaN</td>\n",
       "    </tr>\n",
       "    <tr>\n",
       "      <th>3</th>\n",
       "      <td>NaN</td>\n",
       "      <td>NaN</td>\n",
       "      <td>2.0</td>\n",
       "      <td>21706</td>\n",
       "      <td>0.084643</td>\n",
       "      <td>0.594151</td>\n",
       "      <td>0.755962</td>\n",
       "      <td>0.492444</td>\n",
       "      <td>111.6384</td>\n",
       "      <td>48.603</td>\n",
       "      <td>12.155</td>\n",
       "    </tr>\n",
       "    <tr>\n",
       "      <th>4</th>\n",
       "      <td>0.0748</td>\n",
       "      <td>0.000007</td>\n",
       "      <td>3.0</td>\n",
       "      <td>32559</td>\n",
       "      <td>NaN</td>\n",
       "      <td>NaN</td>\n",
       "      <td>NaN</td>\n",
       "      <td>NaN</td>\n",
       "      <td>NaN</td>\n",
       "      <td>NaN</td>\n",
       "      <td>NaN</td>\n",
       "    </tr>\n",
       "    <tr>\n",
       "      <th>5</th>\n",
       "      <td>NaN</td>\n",
       "      <td>NaN</td>\n",
       "      <td>3.0</td>\n",
       "      <td>32559</td>\n",
       "      <td>0.084199</td>\n",
       "      <td>0.590128</td>\n",
       "      <td>0.750928</td>\n",
       "      <td>0.480464</td>\n",
       "      <td>109.8212</td>\n",
       "      <td>49.408</td>\n",
       "      <td>12.356</td>\n",
       "    </tr>\n",
       "    <tr>\n",
       "      <th>6</th>\n",
       "      <td>0.0668</td>\n",
       "      <td>0.000006</td>\n",
       "      <td>4.0</td>\n",
       "      <td>43412</td>\n",
       "      <td>NaN</td>\n",
       "      <td>NaN</td>\n",
       "      <td>NaN</td>\n",
       "      <td>NaN</td>\n",
       "      <td>NaN</td>\n",
       "      <td>NaN</td>\n",
       "      <td>NaN</td>\n",
       "    </tr>\n",
       "    <tr>\n",
       "      <th>7</th>\n",
       "      <td>NaN</td>\n",
       "      <td>NaN</td>\n",
       "      <td>4.0</td>\n",
       "      <td>43412</td>\n",
       "      <td>0.087482</td>\n",
       "      <td>0.592126</td>\n",
       "      <td>0.759481</td>\n",
       "      <td>0.484888</td>\n",
       "      <td>108.7354</td>\n",
       "      <td>49.901</td>\n",
       "      <td>12.480</td>\n",
       "    </tr>\n",
       "    <tr>\n",
       "      <th>8</th>\n",
       "      <td>0.0590</td>\n",
       "      <td>0.000005</td>\n",
       "      <td>5.0</td>\n",
       "      <td>54265</td>\n",
       "      <td>NaN</td>\n",
       "      <td>NaN</td>\n",
       "      <td>NaN</td>\n",
       "      <td>NaN</td>\n",
       "      <td>NaN</td>\n",
       "      <td>NaN</td>\n",
       "      <td>NaN</td>\n",
       "    </tr>\n",
       "    <tr>\n",
       "      <th>9</th>\n",
       "      <td>NaN</td>\n",
       "      <td>NaN</td>\n",
       "      <td>5.0</td>\n",
       "      <td>54265</td>\n",
       "      <td>0.093285</td>\n",
       "      <td>0.580314</td>\n",
       "      <td>0.759521</td>\n",
       "      <td>0.474014</td>\n",
       "      <td>108.7162</td>\n",
       "      <td>49.910</td>\n",
       "      <td>12.482</td>\n",
       "    </tr>\n",
       "  </tbody>\n",
       "</table>\n",
       "</div>"
      ],
      "text/plain": [
       "     loss  learning_rate  epoch   step  eval_loss   eval_f1  eval_roc_auc  \\\n",
       "0  0.1100       0.000009    1.0  10853        NaN       NaN           NaN   \n",
       "1     NaN            NaN    1.0  10853   0.089094  0.556974      0.728034   \n",
       "2  0.0839       0.000008    2.0  21706        NaN       NaN           NaN   \n",
       "3     NaN            NaN    2.0  21706   0.084643  0.594151      0.755962   \n",
       "4  0.0748       0.000007    3.0  32559        NaN       NaN           NaN   \n",
       "5     NaN            NaN    3.0  32559   0.084199  0.590128      0.750928   \n",
       "6  0.0668       0.000006    4.0  43412        NaN       NaN           NaN   \n",
       "7     NaN            NaN    4.0  43412   0.087482  0.592126      0.759481   \n",
       "8  0.0590       0.000005    5.0  54265        NaN       NaN           NaN   \n",
       "9     NaN            NaN    5.0  54265   0.093285  0.580314      0.759521   \n",
       "\n",
       "   eval_accuracy  eval_runtime  eval_samples_per_second  eval_steps_per_second  \n",
       "0            NaN           NaN                      NaN                    NaN  \n",
       "1       0.443052      123.5173                   43.929                 10.986  \n",
       "2            NaN           NaN                      NaN                    NaN  \n",
       "3       0.492444      111.6384                   48.603                 12.155  \n",
       "4            NaN           NaN                      NaN                    NaN  \n",
       "5       0.480464      109.8212                   49.408                 12.356  \n",
       "6            NaN           NaN                      NaN                    NaN  \n",
       "7       0.484888      108.7354                   49.901                 12.480  \n",
       "8            NaN           NaN                      NaN                    NaN  \n",
       "9       0.474014      108.7162                   49.910                 12.482  "
      ]
     },
     "execution_count": 15,
     "metadata": {},
     "output_type": "execute_result"
    }
   ],
   "source": [
    "history_df = pd.DataFrame(trainer.state.log_history[:-2]) #The last two rows are final evaluations\n",
    "history_df.head(10)\n",
    "#plt.plot(history_df['eval_loss'],'-o',label='validation loss'))\n",
    "#plt.plot(hi"
   ]
  },
  {
   "cell_type": "code",
   "execution_count": 24,
   "id": "77ff8959-8523-481e-9f19-80a4340f8845",
   "metadata": {},
   "outputs": [
    {
     "data": {
      "text/html": [
       "<div>\n",
       "<style scoped>\n",
       "    .dataframe tbody tr th:only-of-type {\n",
       "        vertical-align: middle;\n",
       "    }\n",
       "\n",
       "    .dataframe tbody tr th {\n",
       "        vertical-align: top;\n",
       "    }\n",
       "\n",
       "    .dataframe thead th {\n",
       "        text-align: right;\n",
       "    }\n",
       "</style>\n",
       "<table border=\"1\" class=\"dataframe\">\n",
       "  <thead>\n",
       "    <tr style=\"text-align: right;\">\n",
       "      <th></th>\n",
       "      <th>loss</th>\n",
       "      <th>learning_rate</th>\n",
       "      <th>epoch</th>\n",
       "      <th>step</th>\n",
       "      <th>eval_loss</th>\n",
       "      <th>eval_f1</th>\n",
       "      <th>eval_roc_auc</th>\n",
       "      <th>eval_accuracy</th>\n",
       "      <th>eval_runtime</th>\n",
       "      <th>eval_samples_per_second</th>\n",
       "      <th>eval_steps_per_second</th>\n",
       "    </tr>\n",
       "  </thead>\n",
       "  <tbody>\n",
       "    <tr>\n",
       "      <th>15</th>\n",
       "      <td>NaN</td>\n",
       "      <td>NaN</td>\n",
       "      <td>8.0</td>\n",
       "      <td>86824</td>\n",
       "      <td>0.108823</td>\n",
       "      <td>0.568529</td>\n",
       "      <td>0.762104</td>\n",
       "      <td>0.462956</td>\n",
       "      <td>110.4267</td>\n",
       "      <td>49.137</td>\n",
       "      <td>12.289</td>\n",
       "    </tr>\n",
       "    <tr>\n",
       "      <th>16</th>\n",
       "      <td>0.0371</td>\n",
       "      <td>0.000001</td>\n",
       "      <td>9.0</td>\n",
       "      <td>97677</td>\n",
       "      <td>NaN</td>\n",
       "      <td>NaN</td>\n",
       "      <td>NaN</td>\n",
       "      <td>NaN</td>\n",
       "      <td>NaN</td>\n",
       "      <td>NaN</td>\n",
       "      <td>NaN</td>\n",
       "    </tr>\n",
       "    <tr>\n",
       "      <th>17</th>\n",
       "      <td>NaN</td>\n",
       "      <td>NaN</td>\n",
       "      <td>9.0</td>\n",
       "      <td>97677</td>\n",
       "      <td>0.112492</td>\n",
       "      <td>0.574913</td>\n",
       "      <td>0.765570</td>\n",
       "      <td>0.465721</td>\n",
       "      <td>110.3914</td>\n",
       "      <td>49.152</td>\n",
       "      <td>12.293</td>\n",
       "    </tr>\n",
       "    <tr>\n",
       "      <th>18</th>\n",
       "      <td>0.0343</td>\n",
       "      <td>0.000000</td>\n",
       "      <td>10.0</td>\n",
       "      <td>108530</td>\n",
       "      <td>NaN</td>\n",
       "      <td>NaN</td>\n",
       "      <td>NaN</td>\n",
       "      <td>NaN</td>\n",
       "      <td>NaN</td>\n",
       "      <td>NaN</td>\n",
       "      <td>NaN</td>\n",
       "    </tr>\n",
       "    <tr>\n",
       "      <th>19</th>\n",
       "      <td>NaN</td>\n",
       "      <td>NaN</td>\n",
       "      <td>10.0</td>\n",
       "      <td>108530</td>\n",
       "      <td>0.113841</td>\n",
       "      <td>0.572087</td>\n",
       "      <td>0.764666</td>\n",
       "      <td>0.465905</td>\n",
       "      <td>111.8432</td>\n",
       "      <td>48.514</td>\n",
       "      <td>12.133</td>\n",
       "    </tr>\n",
       "  </tbody>\n",
       "</table>\n",
       "</div>"
      ],
      "text/plain": [
       "      loss  learning_rate  epoch    step  eval_loss   eval_f1  eval_roc_auc  \\\n",
       "15     NaN            NaN    8.0   86824   0.108823  0.568529      0.762104   \n",
       "16  0.0371       0.000001    9.0   97677        NaN       NaN           NaN   \n",
       "17     NaN            NaN    9.0   97677   0.112492  0.574913      0.765570   \n",
       "18  0.0343       0.000000   10.0  108530        NaN       NaN           NaN   \n",
       "19     NaN            NaN   10.0  108530   0.113841  0.572087      0.764666   \n",
       "\n",
       "    eval_accuracy  eval_runtime  eval_samples_per_second  \\\n",
       "15       0.462956      110.4267                   49.137   \n",
       "16            NaN           NaN                      NaN   \n",
       "17       0.465721      110.3914                   49.152   \n",
       "18            NaN           NaN                      NaN   \n",
       "19       0.465905      111.8432                   48.514   \n",
       "\n",
       "    eval_steps_per_second  \n",
       "15                 12.289  \n",
       "16                    NaN  \n",
       "17                 12.293  \n",
       "18                    NaN  \n",
       "19                 12.133  "
      ]
     },
     "execution_count": 24,
     "metadata": {},
     "output_type": "execute_result"
    }
   ],
   "source": [
    "history_df.tail()"
   ]
  },
  {
   "cell_type": "code",
   "execution_count": 20,
   "id": "7ebe96b6-0013-4594-98e0-e2d0528c9115",
   "metadata": {},
   "outputs": [
    {
     "data": {
      "image/png": "[encoded data removed]",
      "text/plain": [
       "<Figure size 640x480 with 1 Axes>"
      ]
     },
     "metadata": {},
     "output_type": "display_data"
    }
   ],
   "source": [
    "plt.plot(history_df['epoch'], history_df['loss'],'-o',label='train loss')\n",
    "plt.plot(history_df['epoch'], history_df['eval_loss'],'-o',label='validation loss')\n",
    "plt.legend()\n",
    "plt.xlabel('epoch')\n",
    "plt.ylabel('loss')\n",
    "plt.show();"
   ]
  },
  {
   "cell_type": "code",
   "execution_count": 23,
   "id": "619727db-5c66-419e-8cb6-78593906d220",
   "metadata": {},
   "outputs": [
    {
     "data": {
      "image/png": "[encoded data removed]",
      "text/plain": [
       "<Figure size 640x480 with 1 Axes>"
      ]
     },
     "metadata": {},
     "output_type": "display_data"
    }
   ],
   "source": [
    "plt.plot(history_df['epoch'], history_df['eval_f1'],'-o',label='f1')\n",
    "plt.plot(history_df['epoch'], history_df['eval_accuracy'],'-o',label='accuracy')\n",
    "plt.plot(history_df['epoch'], history_df['eval_roc_auc'],'-o',label='roc_auc')\n",
    "plt.legend()\n",
    "plt.xlabel('epoch')\n",
    "#plt.ylabel()\n",
    "plt.show();"
   ]
  },
  {
   "cell_type": "code",
   "execution_count": 27,
   "id": "67d2c898-7d8e-4094-b929-203e4ca6bc0f",
   "metadata": {},
   "outputs": [],
   "source": [
    "trainer.save_model('../../GoEmotions/DiracGiraf/roberta-base-goemotions')"
   ]
  },
  {
   "cell_type": "code",
   "execution_count": 28,
   "id": "4da1fa9b-8b5a-410d-b330-212b420ee794",
   "metadata": {},
   "outputs": [],
   "source": [
    "pd.DataFrame(trainer.state.log_history).to_csv('training_log.csv')"
   ]
  }
 ],
 "metadata": {
  "kernelspec": {
   "display_name": "goemotions",
   "language": "python",
   "name": "goemotions"
  },
  "language_info": {
   "codemirror_mode": {
    "name": "ipython",
    "version": 3
   },
   "file_extension": ".py",
   "mimetype": "text/x-python",
   "name": "python",
   "nbconvert_exporter": "python",
   "pygments_lexer": "ipython3",
   "version": "3.10.11"
  }
 },
 "nbformat": 4,
 "nbformat_minor": 5
}
