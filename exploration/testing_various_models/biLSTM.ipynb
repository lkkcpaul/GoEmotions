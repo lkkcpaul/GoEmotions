{
 "cells": [
  {
   "cell_type": "code",
   "execution_count": 1,
   "id": "ac35659e-dd40-4647-803b-2da00084517f",
   "metadata": {},
   "outputs": [
    {
     "name": "stdout",
     "output_type": "stream",
     "text": [
      "Is gpu available? True\n"
     ]
    }
   ],
   "source": [
    "import pandas as pd\n",
    "import torch\n",
    "device = 'cuda' if torch.cuda.is_available() else 'cpu'\n",
    "print('Is gpu available?', device=='cuda')\n",
    "from transformers import AutoTokenizer\n",
    "from sklearn.metrics import f1_score, roc_auc_score, accuracy_score\n",
    "import torch.nn as nn\n",
    "from torch.nn.utils.rnn import pack_padded_sequence, pad_packed_sequence\n",
    "from torch.autograd import Variable\n",
    "from torch.utils.data import Dataset, DataLoader\n",
    "\n",
    "#import os\n",
    "#import numpy as np\n",
    "#import matplotlib.pyplot as plt\n",
    "\n",
    "#from transformers import EvalPrediction\n",
    "#from datasets import load_dataset"
   ]
  },
  {
   "cell_type": "code",
   "execution_count": 2,
   "id": "d9ad7672-88f3-4fd2-8fab-fd8cba4083b4",
   "metadata": {},
   "outputs": [
    {
     "data": {
      "text/html": [
       "<div>\n",
       "<style scoped>\n",
       "    .dataframe tbody tr th:only-of-type {\n",
       "        vertical-align: middle;\n",
       "    }\n",
       "\n",
       "    .dataframe tbody tr th {\n",
       "        vertical-align: top;\n",
       "    }\n",
       "\n",
       "    .dataframe thead th {\n",
       "        text-align: right;\n",
       "    }\n",
       "</style>\n",
       "<table border=\"1\" class=\"dataframe\">\n",
       "  <thead>\n",
       "    <tr style=\"text-align: right;\">\n",
       "      <th></th>\n",
       "      <th>Text</th>\n",
       "      <th>Classes</th>\n",
       "      <th>ID</th>\n",
       "      <th>Labels</th>\n",
       "      <th>admiration</th>\n",
       "      <th>amusement</th>\n",
       "      <th>anger</th>\n",
       "      <th>annoyance</th>\n",
       "      <th>approval</th>\n",
       "      <th>caring</th>\n",
       "      <th>...</th>\n",
       "      <th>love</th>\n",
       "      <th>nervousness</th>\n",
       "      <th>optimism</th>\n",
       "      <th>pride</th>\n",
       "      <th>realization</th>\n",
       "      <th>relief</th>\n",
       "      <th>remorse</th>\n",
       "      <th>sadness</th>\n",
       "      <th>surprise</th>\n",
       "      <th>neutral</th>\n",
       "    </tr>\n",
       "  </thead>\n",
       "  <tbody>\n",
       "    <tr>\n",
       "      <th>0</th>\n",
       "      <td>My favourite food is anything I didn't have to...</td>\n",
       "      <td>27</td>\n",
       "      <td>eebbqej</td>\n",
       "      <td>['neutral']</td>\n",
       "      <td>0</td>\n",
       "      <td>0</td>\n",
       "      <td>0</td>\n",
       "      <td>0</td>\n",
       "      <td>0</td>\n",
       "      <td>0</td>\n",
       "      <td>...</td>\n",
       "      <td>0</td>\n",
       "      <td>0</td>\n",
       "      <td>0</td>\n",
       "      <td>0</td>\n",
       "      <td>0</td>\n",
       "      <td>0</td>\n",
       "      <td>0</td>\n",
       "      <td>0</td>\n",
       "      <td>0</td>\n",
       "      <td>1</td>\n",
       "    </tr>\n",
       "    <tr>\n",
       "      <th>1</th>\n",
       "      <td>Now if he does off himself, everyone will thin...</td>\n",
       "      <td>27</td>\n",
       "      <td>ed00q6i</td>\n",
       "      <td>['neutral']</td>\n",
       "      <td>0</td>\n",
       "      <td>0</td>\n",
       "      <td>0</td>\n",
       "      <td>0</td>\n",
       "      <td>0</td>\n",
       "      <td>0</td>\n",
       "      <td>...</td>\n",
       "      <td>0</td>\n",
       "      <td>0</td>\n",
       "      <td>0</td>\n",
       "      <td>0</td>\n",
       "      <td>0</td>\n",
       "      <td>0</td>\n",
       "      <td>0</td>\n",
       "      <td>0</td>\n",
       "      <td>0</td>\n",
       "      <td>1</td>\n",
       "    </tr>\n",
       "    <tr>\n",
       "      <th>2</th>\n",
       "      <td>WHY THE FUCK IS BAYLESS ISOING</td>\n",
       "      <td>2</td>\n",
       "      <td>eezlygj</td>\n",
       "      <td>['anger']</td>\n",
       "      <td>0</td>\n",
       "      <td>0</td>\n",
       "      <td>1</td>\n",
       "      <td>0</td>\n",
       "      <td>0</td>\n",
       "      <td>0</td>\n",
       "      <td>...</td>\n",
       "      <td>0</td>\n",
       "      <td>0</td>\n",
       "      <td>0</td>\n",
       "      <td>0</td>\n",
       "      <td>0</td>\n",
       "      <td>0</td>\n",
       "      <td>0</td>\n",
       "      <td>0</td>\n",
       "      <td>0</td>\n",
       "      <td>0</td>\n",
       "    </tr>\n",
       "    <tr>\n",
       "      <th>3</th>\n",
       "      <td>To make her feel threatened</td>\n",
       "      <td>14</td>\n",
       "      <td>ed7ypvh</td>\n",
       "      <td>['fear']</td>\n",
       "      <td>0</td>\n",
       "      <td>0</td>\n",
       "      <td>0</td>\n",
       "      <td>0</td>\n",
       "      <td>0</td>\n",
       "      <td>0</td>\n",
       "      <td>...</td>\n",
       "      <td>0</td>\n",
       "      <td>0</td>\n",
       "      <td>0</td>\n",
       "      <td>0</td>\n",
       "      <td>0</td>\n",
       "      <td>0</td>\n",
       "      <td>0</td>\n",
       "      <td>0</td>\n",
       "      <td>0</td>\n",
       "      <td>0</td>\n",
       "    </tr>\n",
       "    <tr>\n",
       "      <th>4</th>\n",
       "      <td>Dirty Southern Wankers</td>\n",
       "      <td>3</td>\n",
       "      <td>ed0bdzj</td>\n",
       "      <td>['annoyance']</td>\n",
       "      <td>0</td>\n",
       "      <td>0</td>\n",
       "      <td>0</td>\n",
       "      <td>1</td>\n",
       "      <td>0</td>\n",
       "      <td>0</td>\n",
       "      <td>...</td>\n",
       "      <td>0</td>\n",
       "      <td>0</td>\n",
       "      <td>0</td>\n",
       "      <td>0</td>\n",
       "      <td>0</td>\n",
       "      <td>0</td>\n",
       "      <td>0</td>\n",
       "      <td>0</td>\n",
       "      <td>0</td>\n",
       "      <td>0</td>\n",
       "    </tr>\n",
       "  </tbody>\n",
       "</table>\n",
       "<p>5 rows × 32 columns</p>\n",
       "</div>"
      ],
      "text/plain": [
       "                                                Text Classes       ID  \\\n",
       "0  My favourite food is anything I didn't have to...      27  eebbqej   \n",
       "1  Now if he does off himself, everyone will thin...      27  ed00q6i   \n",
       "2                     WHY THE FUCK IS BAYLESS ISOING       2  eezlygj   \n",
       "3                        To make her feel threatened      14  ed7ypvh   \n",
       "4                             Dirty Southern Wankers       3  ed0bdzj   \n",
       "\n",
       "          Labels  admiration  amusement  anger  annoyance  approval  caring  \\\n",
       "0    ['neutral']           0          0      0          0         0       0   \n",
       "1    ['neutral']           0          0      0          0         0       0   \n",
       "2      ['anger']           0          0      1          0         0       0   \n",
       "3       ['fear']           0          0      0          0         0       0   \n",
       "4  ['annoyance']           0          0      0          1         0       0   \n",
       "\n",
       "   ...  love  nervousness  optimism  pride  realization  relief  remorse  \\\n",
       "0  ...     0            0         0      0            0       0        0   \n",
       "1  ...     0            0         0      0            0       0        0   \n",
       "2  ...     0            0         0      0            0       0        0   \n",
       "3  ...     0            0         0      0            0       0        0   \n",
       "4  ...     0            0         0      0            0       0        0   \n",
       "\n",
       "   sadness  surprise  neutral  \n",
       "0        0         0        1  \n",
       "1        0         0        1  \n",
       "2        0         0        0  \n",
       "3        0         0        0  \n",
       "4        0         0        0  \n",
       "\n",
       "[5 rows x 32 columns]"
      ]
     },
     "execution_count": 2,
     "metadata": {},
     "output_type": "execute_result"
    }
   ],
   "source": [
    "train_df = pd.read_csv('../reformat_data/train_wide.csv')\n",
    "val_df = pd.read_csv('../reformat_data/val_wide.csv')\n",
    "test_df = pd.read_csv('../reformat_data/test_wide.csv')\n",
    "train_df.head()"
   ]
  },
  {
   "cell_type": "code",
   "execution_count": 3,
   "id": "0f3b24bc-80ba-4c78-8a0f-5d3d6a97fc4c",
   "metadata": {},
   "outputs": [],
   "source": [
    "PAD = 0\n",
    "MAX_LEN = 512\n",
    "dropout = 0.1\n",
    "batch_size = 16\n",
    "embedding_size = 1024\n",
    "max_document_length = 512  # each sentence has until 100 words\n",
    "#max_size = 5000 # maximum vocabulary size\n",
    "num_classes = 28\n",
    "lstm_units = 256\n",
    "hidden_dim = 256\n",
    "num_layers = 4  # LSTM layers\n",
    "epochs = 10\n",
    "learning_rate = 3e-5"
   ]
  },
  {
   "cell_type": "code",
   "execution_count": 4,
   "id": "3ccafd4d-1a28-4002-8282-edbe3aaf8aa8",
   "metadata": {},
   "outputs": [],
   "source": [
    "tokenizer = AutoTokenizer.from_pretrained('bert-base-cased')"
   ]
  },
  {
   "cell_type": "code",
   "execution_count": 5,
   "id": "5c0b1e86-4711-49c9-b22d-a0c095c36f24",
   "metadata": {},
   "outputs": [],
   "source": [
    "train_tokenized = tokenizer(train_df['Text'].values.tolist(),padding='max_length',truncation=True, max_length=MAX_LEN)\n",
    "train_tokens = train_tokenized['input_ids']"
   ]
  },
  {
   "cell_type": "code",
   "execution_count": 6,
   "id": "2f1345a6-dce7-414e-916b-4e2f9324c5d8",
   "metadata": {},
   "outputs": [],
   "source": [
    "train_lengths = [sum(mask) for mask in train_tokenized['attention_mask']]"
   ]
  },
  {
   "cell_type": "code",
   "execution_count": 7,
   "id": "6021f9b4-06ca-40cb-9584-5085839d77f5",
   "metadata": {},
   "outputs": [],
   "source": [
    "class textData(Dataset):\n",
    "    def __init__(self, x, lengths, y):\n",
    "        self.x = x\n",
    "        self.lengths = lengths\n",
    "        self.y = y\n",
    "    def __len__(self):\n",
    "        return len(self.x)\n",
    "    def __getitem__(self,idx):\n",
    "        return torch.Tensor(self.x[idx]), self.lengths[idx], torch.Tensor(self.y.iloc[idx])"
   ]
  },
  {
   "cell_type": "code",
   "execution_count": 8,
   "id": "a940e54c-5ce8-4fb5-8a2a-251bdc2b9da8",
   "metadata": {},
   "outputs": [],
   "source": [
    "train_dataset = textData(train_tokens, train_lengths, train_df.iloc[:,4:])"
   ]
  },
  {
   "cell_type": "code",
   "execution_count": 9,
   "id": "de93867f-7157-4e99-be8e-e2ca30c30fbf",
   "metadata": {},
   "outputs": [],
   "source": [
    "train_loader = DataLoader(train_dataset, batch_size = batch_size, shuffle = True) "
   ]
  },
  {
   "cell_type": "code",
   "execution_count": 10,
   "id": "2a98e64e-9968-4378-81ee-34f9fb8f9218",
   "metadata": {},
   "outputs": [
    {
     "name": "stdout",
     "output_type": "stream",
     "text": [
      "torch.Size([16, 512])\n",
      "torch.Size([16])\n",
      "torch.Size([16, 28])\n"
     ]
    }
   ],
   "source": [
    "for batch in train_loader:\n",
    "    print(batch[0].shape)\n",
    "    print(batch[1].shape)\n",
    "    print(batch[2].shape)\n",
    "    break"
   ]
  },
  {
   "cell_type": "code",
   "execution_count": 11,
   "id": "36ba0441-d5d4-4e1f-94bf-a3e24981f6d2",
   "metadata": {},
   "outputs": [
    {
     "name": "stdout",
     "output_type": "stream",
     "text": [
      "torch.Size([16, 512])\n",
      "torch.Size([16])\n",
      "torch.Size([16, 28])\n"
     ]
    }
   ],
   "source": [
    "val_tokenized = tokenizer(val_df['Text'].values.tolist(),padding='max_length',truncation=True, max_length=MAX_LEN)\n",
    "val_tokens = val_tokenized['input_ids']\n",
    "val_lengths = [sum(mask) for mask in val_tokenized['attention_mask']]\n",
    "val_dataset = textData(val_tokens, val_lengths, val_df.iloc[:,4:])\n",
    "val_loader = DataLoader(val_dataset, batch_size = batch_size) \n",
    "for batch in val_loader:\n",
    "    print(batch[0].shape)\n",
    "    print(batch[1].shape)\n",
    "    print(batch[2].shape)\n",
    "    break"
   ]
  },
  {
   "cell_type": "code",
   "execution_count": 12,
   "id": "8ef73914-ea23-468c-ba2c-8a0e6649a330",
   "metadata": {},
   "outputs": [],
   "source": [
    "test_tokenized = tokenizer(test_df['Text'].values.tolist(),padding='max_length',truncation=True, max_length=MAX_LEN)\n",
    "test_tokens = test_tokenized['input_ids']\n",
    "test_lengths = [sum(mask) for mask in test_tokenized['attention_mask']]\n",
    "test_dataset = textData(test_tokens, test_lengths, test_df.iloc[:,4:])\n",
    "test_loader = DataLoader(test_dataset, batch_size = batch_size) \n"
   ]
  },
  {
   "cell_type": "code",
   "execution_count": 13,
   "id": "713ed484-7c6c-4b0b-94b8-d4a6ca8129ed",
   "metadata": {},
   "outputs": [
    {
     "name": "stdout",
     "output_type": "stream",
     "text": [
      "28732\n"
     ]
    }
   ],
   "source": [
    "vocab_size = max([max(sample) for sample in train_tokens]\n",
    "                 +[max(sample) for sample in val_tokens]\n",
    "                 +[max(sample) for sample in test_tokens]) + 1\n",
    "print(vocab_size)"
   ]
  },
  {
   "cell_type": "code",
   "execution_count": 14,
   "id": "56a09e8d-0c48-4374-9bf0-975cc7a592e9",
   "metadata": {},
   "outputs": [],
   "source": [
    "class biLSTM(nn.Module):\n",
    "    def __init__(self, vocab_size, emb_dim, lstm_units, hidden_dim, num_classes, num_layers, dropout = 0, pad_idx = PAD):\n",
    "        super().__init__()\n",
    "        self.emb = nn.Embedding(vocab_size, emb_dim, padding_idx=pad_idx)\n",
    "        self.lstm = nn.LSTM(emb_dim, lstm_units, num_layers=num_layers, batch_first=True, dropout=dropout, bidirectional=True)\n",
    "        self.fc1 = nn.Linear(2*lstm_units, hidden_dim)\n",
    "        self.fc2 = nn.Linear(hidden_dim, num_classes)\n",
    "        self.relu=nn.ReLU()\n",
    "        self.drop=nn.Dropout(dropout)\n",
    "    def forward(self, x, lengths):\n",
    "        B = x.shape[0]\n",
    "        x = self.emb(x)\n",
    "        x = pack_padded_sequence(x, lengths, batch_first = True ,enforce_sorted=False)\n",
    "        y, _ = self.lstm(x)\n",
    "        y, _ = pad_packed_sequence(y, batch_first = True)\n",
    "        y = y[torch.arange(B),lengths-1,:]\n",
    "        y = self.relu(y)\n",
    "        y = self.fc1(y)\n",
    "        y = self.drop(y)\n",
    "        y = self.fc2(y)\n",
    "        return y\n",
    "        "
   ]
  },
  {
   "cell_type": "code",
   "execution_count": 15,
   "id": "478117c7-3c33-4ed5-bf84-1cf929a03d33",
   "metadata": {},
   "outputs": [],
   "source": [
    "model = biLSTM(vocab_size, embedding_size, lstm_units, hidden_dim, num_classes, num_layers).to(device)\n",
    "optimizer = torch.optim.AdamW(model.parameters(), lr = learning_rate)\n",
    "loss_fn = nn.BCEWithLogitsLoss()"
   ]
  },
  {
   "cell_type": "code",
   "execution_count": 16,
   "id": "e1adc00b-debb-4aeb-961d-988f5dae8323",
   "metadata": {},
   "outputs": [
    {
     "name": "stdout",
     "output_type": "stream",
     "text": [
      "Epoch 1/10\n",
      "Train Loss: 0.1656 Validation Loss: 0.1495\n",
      "Epoch 2/10\n",
      "Train Loss: 0.1462 Validation Loss: 0.1402\n",
      "Epoch 3/10\n",
      "Train Loss: 0.1368 Validation Loss: 0.1345\n",
      "Epoch 4/10\n",
      "Train Loss: 0.1311 Validation Loss: 0.1304\n",
      "Epoch 5/10\n",
      "Train Loss: 0.1246 Validation Loss: 0.1258\n",
      "Epoch 6/10\n",
      "Train Loss: 0.1183 Validation Loss: 0.1231\n",
      "Epoch 7/10\n",
      "Train Loss: 0.1130 Validation Loss: 0.1213\n",
      "Epoch 8/10\n",
      "Train Loss: 0.1068 Validation Loss: 0.1195\n",
      "Epoch 9/10\n",
      "Train Loss: 0.1012 Validation Loss: 0.1198\n",
      "Epoch 10/10\n",
      "Train Loss: 0.0958 Validation Loss: 0.1200\n",
      "early stopping\n"
     ]
    }
   ],
   "source": [
    "## Train the model\n",
    "history = {'train_loss':[], 'val_loss':[]}\n",
    "\n",
    "for epoch in range(epochs):\n",
    "    # First the training phase\n",
    "    optimizer.zero_grad()\n",
    "    model.train()\n",
    "    train_loss = 0.0\n",
    "    for x, lengths, y in train_loader:\n",
    "        #optimizer.zero_grad()\n",
    "        x, y = x.long().to(device), y.to(device) # Check if lengths is needed\n",
    "        pred = model(x,lengths)\n",
    "        loss = loss_fn(pred,y)\n",
    "        loss.backward()\n",
    "        optimizer.step()\n",
    "        optimizer.zero_grad()\n",
    "        train_loss+=loss.item()\n",
    "    train_loss/= len(train_loader)\n",
    "    history['train_loss'].append(train_loss)\n",
    "\n",
    "    # Now do evaluation\n",
    "    model.eval()\n",
    "    val_loss = 0.0\n",
    "    for x, lengths, y in val_loader:\n",
    "        #optimizer.zero_grad()\n",
    "        x, y = x.long().to(device), y.to(device) # Check if lengths is needed\n",
    "        pred = model(x,lengths)\n",
    "        loss = loss_fn(pred,y)\n",
    "        val_loss+=loss.item()\n",
    "    val_loss/= len(val_loader)\n",
    "    \n",
    "    print(f\"Epoch {epoch+1}/{epochs}\")\n",
    "    print(f\"Train Loss: {train_loss:.4f}\", f\"Validation Loss: {val_loss:.4f}\")\n",
    "    \n",
    "    if history['val_loss'] and val_loss>max(history['val_loss'][-2:]):\n",
    "        print('early stopping')\n",
    "        history['val_loss'].append(val_loss)\n",
    "        break\n",
    "    if history['val_loss'] and val_loss<history['val_loss'][-1]:\n",
    "        torch.save(model, 'biLSTM.pk')\n",
    "        \n",
    "    history['val_loss'].append(val_loss)\n",
    "\n"
   ]
  },
  {
   "cell_type": "code",
   "execution_count": 19,
   "id": "4f0e1a06-bbcf-4cfa-91a1-7c662bb9bfe1",
   "metadata": {},
   "outputs": [
    {
     "data": {
      "image/png": "[encoded data removed]",
      "text/plain": [
       "<Figure size 640x480 with 1 Axes>"
      ]
     },
     "metadata": {},
     "output_type": "display_data"
    }
   ],
   "source": [
    "import matplotlib.pyplot as plt\n",
    "plt.plot(history['train_loss'],label='train_loss')\n",
    "plt.plot(history['val_loss'], label='val_loss')\n",
    "plt.legend()\n",
    "plt.show()"
   ]
  },
  {
   "cell_type": "markdown",
   "id": "3c05e6a5-689e-4192-a36a-1faae4525f7b",
   "metadata": {},
   "source": [
    "## Evaluate the model"
   ]
  },
  {
   "cell_type": "code",
   "execution_count": 20,
   "id": "44b45432-dd1d-464f-a63e-22751196f9ac",
   "metadata": {},
   "outputs": [],
   "source": [
    "import numpy as np\n",
    "threshold = 0.5\n",
    "model = torch.load('biLSTM.pk').to(device)\n",
    "model.eval()\n",
    "pred_df = test_df.iloc[:,4:]\n",
    "batch_start_idx = 0\n",
    "for x, lengths, y in test_loader:\n",
    "    x = x.long().to(device) # Check if lengths is needed\n",
    "    B = x.shape[0]\n",
    "    df_idx = np.arange(batch_start_idx,batch_start_idx+B)\n",
    "    batch_start_idx+=B\n",
    "    pred = model(x,lengths)\n",
    "    #print(pred)\n",
    "    label_pred = (nn.Sigmoid()(pred)>=threshold).cpu().long()\n",
    "    pred_df.loc[df_idx,:] = np.array(label_pred)"
   ]
  },
  {
   "cell_type": "code",
   "execution_count": 21,
   "id": "3af52cf9-b89c-4d49-a105-b25f1b224da0",
   "metadata": {},
   "outputs": [
    {
     "name": "stdout",
     "output_type": "stream",
     "text": [
      "{'f1': 0.40128874569492284, 'roc_auc': 0.6397032184559917, 'accuracy': 0.2839506172839506}\n"
     ]
    }
   ],
   "source": [
    "f1_micro_average = f1_score(test_df.iloc[:,4:],pred_df, average='micro')\n",
    "roc_auc = roc_auc_score(test_df.iloc[:,4:], pred_df, average = 'micro')\n",
    "accuracy = accuracy_score(test_df.iloc[:,4:], pred_df)\n",
    "# return as dictionary\n",
    "metrics = {'f1': f1_micro_average,\n",
    "           'roc_auc': roc_auc,\n",
    "           'accuracy': accuracy}\n",
    "print(metrics)"
   ]
  },
  {
   "cell_type": "markdown",
   "id": "6b514a67-cf31-4f41-9e60-3cf2f1ae7c2c",
   "metadata": {},
   "source": [
    "This result is similar to the numbers reported in the paper \"GoEmotions: A dataset of fine-grained emotions\" https://arxiv.org/pdf/2005.00547.pdf"
   ]
  }
 ],
 "metadata": {
  "kernelspec": {
   "display_name": "goemotions",
   "language": "python",
   "name": "goemotions"
  },
  "language_info": {
   "codemirror_mode": {
    "name": "ipython",
    "version": 3
   },
   "file_extension": ".py",
   "mimetype": "text/x-python",
   "name": "python",
   "nbconvert_exporter": "python",
   "pygments_lexer": "ipython3",
   "version": "3.10.11"
  }
 },
 "nbformat": 4,
 "nbformat_minor": 5
}
